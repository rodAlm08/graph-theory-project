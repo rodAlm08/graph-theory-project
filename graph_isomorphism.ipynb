{
 "cells": [
  {
   "attachments": {},
   "cell_type": "markdown",
   "metadata": {},
   "source": [
    "## Graph Isomorphism Problem\n",
    "\n",
    "***"
   ]
  },
  {
   "attachments": {},
   "cell_type": "markdown",
   "metadata": {},
   "source": [
    "### <b>Understanding Graphs:"
   ]
  },
  {
   "attachments": {},
   "cell_type": "markdown",
   "metadata": {},
   "source": [
    "<p>First let's understand Graph with a simple drawing and example.</p>\n",
    "\n",
    "<p>Consider a graph that represents a social network of friends. The vertices in this graoh represent people, and the edges represent their friendships.</p>\n",
    "Here is a visual representation of this graph:"
   ]
  },
  {
   "attachments": {},
   "cell_type": "markdown",
   "metadata": {},
   "source": [
    "    A -- B\n",
    "    |    |\n",
    "    C -- D"
   ]
  },
  {
   "attachments": {},
   "cell_type": "markdown",
   "metadata": {},
   "source": [
    "<p>In this graph, there are four vertices labeled A, B, C and D. The edges between the vertices represent the friendships between the people they represent. For example, there is an edge between A and B, indicating that A and B are friends. There is also an edge between B and D, indicating that B and D are friends.</p>"
   ]
  },
  {
   "attachments": {},
   "cell_type": "markdown",
   "metadata": {},
   "source": [
    "<p>This graph can be represented mathematically as follows:</p>\n",
    "<p> V = {A, B, C, D}  <mark>//set of vertices</p>\n",
    "<p> E = {(A,B),(A,C),(B,D),(C,D)} <mark>//set of edges</p>\n"
   ]
  },
  {
   "attachments": {},
   "cell_type": "markdown",
   "metadata": {},
   "source": [
    "<p>Here, V is the set of vertices, and E is the set of edges. The elements of E are pairs of vertices, indicating which vertices are connected by an edge.</p>"
   ]
  },
  {
   "attachments": {},
   "cell_type": "markdown",
   "metadata": {},
   "source": [
    "<p>Graphs can be used to represent a wide range of relationships between objects, such as connections in transport network, dependencies in a software system, or links on a website. By representing these relationships as a graph, we can use mathematical tools to analyze and understand them, and to solve problems related to them.</p>"
   ]
  },
  {
   "attachments": {},
   "cell_type": "markdown",
   "metadata": {},
   "source": [
    "### <b>Understanding the Graph Isomorphism Problem"
   ]
  },
  {
   "attachments": {},
   "cell_type": "markdown",
   "metadata": {},
   "source": [
    "<p>The graph isomorphism problem is a well-know problem in computer science and mathematics that asks whether two given graphs are isomorphic meaning that they have the same structure but possibly different vertex labels. This problem has important application in fields such as chemistry, physics, and computer vision, and has been subject of much research in computer science and mathematics.</p>"
   ]
  },
  {
   "attachments": {},
   "cell_type": "markdown",
   "metadata": {},
   "source": [
    "<p>One breakthrough in the field was the development of a quasipolynomial-time algorithm for the graph isomorphism problem by László Babai in 2015. This algorithm was a major improvement over previous algorithms, and showed that the problem can be solved much faster than was previously thought. However, the problem is still considered difficult, and researchers continue to work developing even faster algorithms.</p>"
   ]
  },
  {
   "attachments": {},
   "cell_type": "markdown",
   "metadata": {},
   "source": [
    "### <b>Explaning Time Complexity"
   ]
  },
  {
   "attachments": {},
   "cell_type": "markdown",
   "metadata": {},
   "source": [
    "<p>In computer science, time complexity refers to the amount of time required by an algorithm to solve a particular problem as a function of the size of the input. It is a measure of the efficiency of an algorithm. Time complexity is usually expressed in terms of big-O notation, which provides an upper bound on the running time of the algorithm.</p>"
   ]
  },
  {
   "attachments": {},
   "cell_type": "markdown",
   "metadata": {},
   "source": [
    "<p>The goal of time complexity analysis is to identify the best algorithm for solving a given problem in terms of the amount of time it takes to complete. In general, the best algorithm is one with the lowest possible time complexity. However, in practice, there may be ohter factors to consider, such as the ease of inplementation, memory usage, or the complexity of the algorithm.</p>"
   ]
  },
  {
   "attachments": {},
   "cell_type": "markdown",
   "metadata": {},
   "source": [
    "<p>Time complexity is an important concept in computer science because it help us compare the efficiency of different algorithms for solving the same problem. By analysing the time complexity of an algorithm, we can determine wheater it is feasible to solve a particular problem on a given computer within a reasonable amount of time.</p>"
   ]
  },
  {
   "attachments": {},
   "cell_type": "markdown",
   "metadata": {},
   "source": [
    "<p>The terms that are important and will help us understand the time complexity of the graph isomorphism problem are:</p>"
   ]
  },
  {
   "attachments": {},
   "cell_type": "markdown",
   "metadata": {},
   "source": [
    "<p><b>- Quasipolynomial time:</b> A problem is said to be solvable in quasipolynomial time if there is an algorithm that can solve the problem in time O(n^{polylog n}), where polylog n means logarithm of n taken a polynomial number of times. This is faster than exponential time but slower than polynomial time. In other words, the running time of a quasipolynomial time algorithm grows only slightly faster than a polynomial, making it much faster than exponential time.</p>\n",
    "<t>An example of a problem that can be solved in quasipolynomial time is the graph isomorphism problem, which was shown by László Babai in 2015 to be solvable in quasipolynomial time. The recent breakthrough by Babai in 2015 provides a polynomial-time algorithm for the graph isomorphism problem, which is even faster than quasipolynomial time.\n"
   ]
  },
  {
   "attachments": {},
   "cell_type": "markdown",
   "metadata": {},
   "source": [
    "<p><b>- Polynomial time:</b> A problem is said to be solvable in polynomial time if there is an algorithm that can solve the problem in time O(n^k) for some fixed constant k, where n is the size of the input. Polynomial time algorithms are considered efficient because their running time grows at most polynomially with the size of the input.</p>\n",
    "<p>Examples of problems that can be solved in polynomial time include sorting and searching, as well as many other problems in computer science and mathematics. </p>"
   ]
  },
  {
   "attachments": {},
   "cell_type": "markdown",
   "metadata": {},
   "source": [
    "<p><b>- NP-complete:</b> A problem is said to be NP-complete if it is both in the complexity class NP and it is at least as hard as the hardest problems in NP. In other words, an NP-complete problem is one that is believed to be computationally intractable, meaning that there is no known algorithm that can solve the problem in polynomial time. However, if a polynomial time algorithm is found for an NP-complete problem, it would imply that all problems in NP can be solved in polynomial time.</p>\n",
    "<p>Examples of NP-complete problems include the traveling salesman problem, the knapsack problem, and the satisfiability problem.</p>"
   ]
  },
  {
   "attachments": {},
   "cell_type": "markdown",
   "metadata": {},
   "source": [
    "***\n",
    "References:\n",
    "1. https://calcworkshop.com/trees-graphs/isomorphic-graph/\n",
    "2. https://en.wikipedia.org/wiki/Graph_isomorphism_problem#:~:text=The%20graph%20isomorphism%20problem%20is,computational%20complexity%20class%20NP%2Dintermediate.\n",
    "3. Barabási, Albert-László. \"Network science.\" Cambridge University Press, 2016.\n",
    "4. https://en.wikipedia.org/wiki/Time_complexity#:~:text=Quasi%2Dpolynomial%20time%20algorithms%20are,algorithm%20is%20for%20some%20fixed%20.\n",
    "5. Time Complexity: What is Time Complexity & its Algorithms? (mygreatlearning.com)\n",
    "6. "
   ]
  }
 ],
 "metadata": {
  "kernelspec": {
   "display_name": "Python 3",
   "language": "python",
   "name": "python3"
  },
  "language_info": {
   "name": "python",
   "version": "3.10.10"
  },
  "orig_nbformat": 4,
  "vscode": {
   "interpreter": {
    "hash": "0e5b5b920195072d4a4eec1d5ff9e5f87252d2725e2a57da6939cd4fcd91d4cd"
   }
  }
 },
 "nbformat": 4,
 "nbformat_minor": 2
}
