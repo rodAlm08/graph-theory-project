{
 "cells": [
  {
   "attachments": {},
   "cell_type": "markdown",
   "metadata": {},
   "source": [
    "## Graph Isomorphism Problem\n",
    "\n",
    "***"
   ]
  },
  {
   "attachments": {},
   "cell_type": "markdown",
   "metadata": {},
   "source": [
    "In simpler terms graph isomorphism is about figuring out if two graphs are the same, even if they look different.\n",
    "For example:\n",
    "Imagine two maps of two different cities. Even though the street names and arrangements are differents, the cities themselves might have the same layout, with the same number of roads connecting the same place.\n",
    "Graph isomorphism is trying to find this kind of similarity between two graphs. In a graph, nodes represent places and edges represent roads connecting the places. The problem asks if there is a way to match up the nodes and edges in one graph to the nodes and edges in the other graph, so that both graphs look the same. If such a matching is possible, the two graphs are considered isomorphic."
   ]
  },
  {
   "attachments": {},
   "cell_type": "markdown",
   "metadata": {},
   "source": [
    "    A -- B\n",
    "    |    |\n",
    "    C -- D\n",
    "\n",
    "    E -- F\n",
    "    |    |\n",
    "    G -- H\n"
   ]
  },
  {
   "attachments": {},
   "cell_type": "markdown",
   "metadata": {},
   "source": [
    "On the example above, we can see that by relabeling the nodes, you can match up the nodes and edges in both graphs, so they look the same."
   ]
  }
 ],
 "metadata": {
  "language_info": {
   "name": "python"
  },
  "orig_nbformat": 4
 },
 "nbformat": 4,
 "nbformat_minor": 2
}
